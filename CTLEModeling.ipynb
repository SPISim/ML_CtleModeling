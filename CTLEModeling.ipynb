{
 "cells": [
  {
   "cell_type": "markdown",
   "metadata": {},
   "source": [
    "# **Use ML techniques for SERDES CTLE modeling for IBIS-AMI simulation**  \n",
    "## Table of contents:  \n",
    "### 1.**[Motivation](#Motivation)**  <a href='#Motivation'>...</a>\n",
    "### 2.**[Problem Statements](#Problem Statements)**  <a href='#Problem_Statements'>...</a>\n",
    "### 3.**[Generate Data](#Generate Data)**  <a href='#Generate_Data'>...</a>\n",
    "### 4.**[Prepare Data](#Prepare Data)**  <a href='#Prepare_Data'>...</a>\n",
    "### 5.**[Choose a Model](#Choose a Model)**  <a href='#Choose_a_Model'>...</a>\n",
    "### 6.**[Training](#Training)**  <a href='#Training'>...</a>\n",
    "### 7.**[Prediction](#Prediction)**  <a href='#Prediction'>...</a>\n",
    "### 8.**[Reverse Direction](#Reverse Direction)**  <a href='#Reverse_Direction'>...</a>\n",
    "### 9.**[Deployment](#Deployment)**  <a href='#Deployment'>...</a>\n",
    "### 10.**[Conclusion](#Conclusion)**  <a href='#Conclusion'>...</a>"
   ]
  },
  {
   "cell_type": "markdown",
   "metadata": {},
   "source": [
    "## **Motivation:**<a id = 'Motivation'></a>"
   ]
  },
  {
   "cell_type": "markdown",
   "metadata": {},
   "source": [
    "One of SPISim's main service is IBIS-AMI modeling and consulting. In most cases, this happens when IC companies is ready to release simulation model for their customers to do system design. We will then require data either from circuit simulation, lab measurements or data sheet spec. in order to create associated IBIS-AMI model.\n",
    "Occasionally, we also receive request to provide AMI model for architecture planning purpose. In this situation, there is no data or spec. In stead, the client asks to input performance parameters dynamically (not as preset) so that they can evaluate performance at the architecture level before committing to a certain spec. and design accordingly. In such case, we may need to generate data dynamically based on user's input before it will be fed into existing IBIS-AMI models of same kind.\n",
    "Continues linear equalizer, CTLE, is often used in modern SERDES or even DDR5 design. It is basically a filter in the frequency domain (FD) with various peaking and gain properties. As IBIS-AMI is simulated in the time domain (TD), the core implementations in the model is iFFT to convert into impulse response in TD.\n",
    "![CtleFDTD](./assets/images/CTLEFDTD.png)\n",
    "\n",
    "In order to create such CTLE AMI model from user provided spec. on the fly, we would like to avoid time-consuming parameter sweep (in order to match the performance) during runtime of initial set-up call. Thus machine learning techniques may be applied to help use build a prediction model to map input attributes to associated CTLE design parameters so that its FD and TD response can be generated directly. After that, we can feed the data into existing CTLE C/C++ code blocks for channel simulation."
   ]
  },
  {
   "cell_type": "markdown",
   "metadata": {},
   "source": [
    "## **Problem Statement:**<a id = 'Problem_Statements'></a>"
   ]
  },
  {
   "cell_type": "markdown",
   "metadata": {},
   "source": [
    "We would like to build a prediction model such that when user provide a desired CTLE performance parameters, such as DC Gain, peaking frequency and peaking value, this model will map to corresponding CTLE design parameters such as pole and zero locations. Once this is mapped, CTLE frequency response will be generated followed by time-domain impulse response. The resulting IBIS-AMI CTLE model can be used for channel simulation for evaluating such CTLE block's impact in a system... before actual silicon design has been done."
   ]
  },
  {
   "cell_type": "markdown",
   "metadata": {},
   "source": [
    "## **Generate Data:**<a id = 'Generate_Data'></a>"
   ]
  },
  {
   "cell_type": "markdown",
   "metadata": {},
   "source": [
    "### **Overview**   \n",
    "The model to be build is for nominal (i.e. numerical) prediction for about three to six attributes, depending on the CTLE structure, from four input parameters, namely dc gain, peak frequency, peak value and bandwidth. We will sample the input space randomly (as full combinatorial is impractical) then perform measurement programmingly in order generate enough dataset for modeling purpose."
   ]
  },
  {
   "cell_type": "markdown",
   "metadata": {},
   "source": [
    "### **Defing CTLE equations**"
   ]
  },
  {
   "cell_type": "markdown",
   "metadata": {},
   "source": [
    "We will target the following two most common CTLE structures:   \n",
    "#### IEEE 802.3bs 200/400Gbe Chip-to-module (C2M) CTLE:\n",
    "![C2M_CTLE](./assets/images/C2M_CTLE.png)\n",
    "\n",
    "#### IEEE 802.3bj Channel Operating Margin (COM) CTLE:\n",
    "![COM_CTLE](./assets/images/COM_CTLE.png)"
   ]
  },
  {
   "cell_type": "markdown",
   "metadata": {},
   "source": [
    "### **Define sampling points and attributes**"
   ]
  },
  {
   "cell_type": "markdown",
   "metadata": {},
   "source": [
    "All these pole and zeros values are continuous (numerical), so a sub-sampling from full solution space will be performed. Once frequency response corresponding to each set of configuration is generated, we will measure is dc gain, peak frequency and value, bandwidth (3dB loss from the peak), and frequencies when 10% and 50% gain between dc and peak values happened. The last two attributes will help us increasing the attributes available when creating the prediction model.   \n",
    "#### Attributes to be extracted:\n",
    "![CTLEAttr](./assets/images/CTLEAttr.png)"
   ]
  },
  {
   "cell_type": "markdown",
   "metadata": {},
   "source": [
    "### **Synthesize and measure data**"
   ]
  },
  {
   "cell_type": "markdown",
   "metadata": {},
   "source": [
    "A python script (in order to be used with subsequent Q-learning w/ OpenAI later) has been written to synthesize these frequency response and perform measurement at the same time. \n",
    "\n",
    "#### Quantize and Sampling:\n",
    "![Sampling](./assets/images/CTLESamp.png)\n",
    "\n",
    "#### Synthesize:\n",
    "![Synthesize](./assets/images/CTLEGen.png)\n",
    "\n",
    "#### Measurement:\n",
    "![Measurement](./assets/images/CTLEMeas.png)   \n",
    "\n",
    "The end results after this data generation phase is a 100,000 points dataset for each of the two CTLE structures. We can now proceed for the prediction modeling."
   ]
  },
  {
   "cell_type": "markdown",
   "metadata": {},
   "source": [
    "## **Prepare Data:**<a id = 'Prepare_Data'></a>"
   ]
  },
  {
   "cell_type": "code",
   "execution_count": 42,
   "metadata": {},
   "outputs": [],
   "source": [
    "## Using COM CTLE as an example below:\n",
    "\n",
    "# Environment Setup:\n",
    "import os\n",
    "import pandas as pd\n",
    "import matplotlib\n",
    "import matplotlib.pyplot as plt\n",
    "import numpy as np\n",
    "\n",
    "prjHome = 'C:/Temp/WinProj/CTLEMdl'\n",
    "workDir = prjHome + '/wsp/'\n",
    "srcFile = prjHome + '/dat/COM_CTLEData.csv'\n",
    "\n",
    "def save_fig(fig_id, tight_layout=True, fig_extension=\"png\", resolution=300):\n",
    "    path = os.path.join(workDir, fig_id + \".\" + fig_extension)\n",
    "    print(\"Saving figure\", fig_id)\n",
    "    if tight_layout:\n",
    "        plt.tight_layout()\n",
    "    plt.savefig(path, format=fig_extension, dpi=resolution)"
   ]
  },
  {
   "cell_type": "code",
   "execution_count": 43,
   "metadata": {},
   "outputs": [
    {
     "name": "stdout",
     "output_type": "stream",
     "text": [
      "<class 'pandas.core.frame.DataFrame'>\n",
      "RangeIndex: 100000 entries, 0 to 99999\n",
      "Data columns (total 11 columns):\n",
      "ID         100000 non-null int64\n",
      "Gdc        100000 non-null float64\n",
      "P1         100000 non-null float64\n",
      "P2         100000 non-null float64\n",
      "Z1         100000 non-null float64\n",
      "Gain       100000 non-null float64\n",
      "PeakF      100000 non-null float64\n",
      "PeakVal    100000 non-null float64\n",
      "BandW      100000 non-null float64\n",
      "Freq10     100000 non-null float64\n",
      "Freq50     100000 non-null float64\n",
      "dtypes: float64(10), int64(1)\n",
      "memory usage: 8.4 MB\n"
     ]
    },
    {
     "data": {
      "text/html": [
       "<div>\n",
       "<style scoped>\n",
       "    .dataframe tbody tr th:only-of-type {\n",
       "        vertical-align: middle;\n",
       "    }\n",
       "\n",
       "    .dataframe tbody tr th {\n",
       "        vertical-align: top;\n",
       "    }\n",
       "\n",
       "    .dataframe thead th {\n",
       "        text-align: right;\n",
       "    }\n",
       "</style>\n",
       "<table border=\"1\" class=\"dataframe\">\n",
       "  <thead>\n",
       "    <tr style=\"text-align: right;\">\n",
       "      <th></th>\n",
       "      <th>ID</th>\n",
       "      <th>Gdc</th>\n",
       "      <th>P1</th>\n",
       "      <th>P2</th>\n",
       "      <th>Z1</th>\n",
       "      <th>Gain</th>\n",
       "      <th>PeakF</th>\n",
       "      <th>PeakVal</th>\n",
       "      <th>BandW</th>\n",
       "      <th>Freq10</th>\n",
       "      <th>Freq50</th>\n",
       "    </tr>\n",
       "  </thead>\n",
       "  <tbody>\n",
       "    <tr>\n",
       "      <th>count</th>\n",
       "      <td>100000.000000</td>\n",
       "      <td>100000.000000</td>\n",
       "      <td>1.000000e+05</td>\n",
       "      <td>1.000000e+05</td>\n",
       "      <td>1.000000e+05</td>\n",
       "      <td>100000.000000</td>\n",
       "      <td>1.000000e+05</td>\n",
       "      <td>100000.000000</td>\n",
       "      <td>1.000000e+05</td>\n",
       "      <td>1.000000e+05</td>\n",
       "      <td>1.000000e+05</td>\n",
       "    </tr>\n",
       "    <tr>\n",
       "      <th>mean</th>\n",
       "      <td>49999.500000</td>\n",
       "      <td>0.574911</td>\n",
       "      <td>1.724742e+10</td>\n",
       "      <td>5.235940e+09</td>\n",
       "      <td>5.241625e+09</td>\n",
       "      <td>0.574911</td>\n",
       "      <td>3.428616e+09</td>\n",
       "      <td>2.374620</td>\n",
       "      <td>1.496343e+10</td>\n",
       "      <td>4.145855e+08</td>\n",
       "      <td>1.136585e+09</td>\n",
       "    </tr>\n",
       "    <tr>\n",
       "      <th>std</th>\n",
       "      <td>28867.657797</td>\n",
       "      <td>0.230302</td>\n",
       "      <td>4.323718e+09</td>\n",
       "      <td>2.593138e+09</td>\n",
       "      <td>2.589769e+09</td>\n",
       "      <td>0.230302</td>\n",
       "      <td>4.468393e+09</td>\n",
       "      <td>3.346094</td>\n",
       "      <td>1.048535e+10</td>\n",
       "      <td>5.330043e+08</td>\n",
       "      <td>1.446972e+09</td>\n",
       "    </tr>\n",
       "    <tr>\n",
       "      <th>min</th>\n",
       "      <td>0.000000</td>\n",
       "      <td>0.200000</td>\n",
       "      <td>1.000000e+10</td>\n",
       "      <td>1.000000e+09</td>\n",
       "      <td>1.000000e+09</td>\n",
       "      <td>0.200000</td>\n",
       "      <td>0.000000e+00</td>\n",
       "      <td>0.200000</td>\n",
       "      <td>9.965473e+08</td>\n",
       "      <td>0.000000e+00</td>\n",
       "      <td>-1.000000e+00</td>\n",
       "    </tr>\n",
       "    <tr>\n",
       "      <th>25%</th>\n",
       "      <td>24999.750000</td>\n",
       "      <td>0.350000</td>\n",
       "      <td>1.350000e+10</td>\n",
       "      <td>3.000000e+09</td>\n",
       "      <td>3.000000e+09</td>\n",
       "      <td>0.350000</td>\n",
       "      <td>0.000000e+00</td>\n",
       "      <td>0.500000</td>\n",
       "      <td>4.770445e+09</td>\n",
       "      <td>0.000000e+00</td>\n",
       "      <td>-1.000000e+00</td>\n",
       "    </tr>\n",
       "    <tr>\n",
       "      <th>50%</th>\n",
       "      <td>49999.500000</td>\n",
       "      <td>0.600000</td>\n",
       "      <td>1.700000e+10</td>\n",
       "      <td>5.000000e+09</td>\n",
       "      <td>5.000000e+09</td>\n",
       "      <td>0.600000</td>\n",
       "      <td>0.000000e+00</td>\n",
       "      <td>0.800000</td>\n",
       "      <td>1.410597e+10</td>\n",
       "      <td>0.000000e+00</td>\n",
       "      <td>-1.000000e+00</td>\n",
       "    </tr>\n",
       "    <tr>\n",
       "      <th>75%</th>\n",
       "      <td>74999.250000</td>\n",
       "      <td>0.750000</td>\n",
       "      <td>2.100000e+10</td>\n",
       "      <td>7.500000e+09</td>\n",
       "      <td>7.500000e+09</td>\n",
       "      <td>0.750000</td>\n",
       "      <td>7.557558e+09</td>\n",
       "      <td>2.710536</td>\n",
       "      <td>2.386211e+10</td>\n",
       "      <td>8.974728e+08</td>\n",
       "      <td>2.510339e+09</td>\n",
       "    </tr>\n",
       "    <tr>\n",
       "      <th>max</th>\n",
       "      <td>99999.000000</td>\n",
       "      <td>0.950000</td>\n",
       "      <td>2.450000e+10</td>\n",
       "      <td>9.500000e+09</td>\n",
       "      <td>9.500000e+09</td>\n",
       "      <td>0.950000</td>\n",
       "      <td>1.516517e+10</td>\n",
       "      <td>16.731528</td>\n",
       "      <td>3.965752e+10</td>\n",
       "      <td>1.768803e+09</td>\n",
       "      <td>4.678211e+09</td>\n",
       "    </tr>\n",
       "  </tbody>\n",
       "</table>\n",
       "</div>"
      ],
      "text/plain": [
       "                  ID            Gdc            P1            P2            Z1  \\\n",
       "count  100000.000000  100000.000000  1.000000e+05  1.000000e+05  1.000000e+05   \n",
       "mean    49999.500000       0.574911  1.724742e+10  5.235940e+09  5.241625e+09   \n",
       "std     28867.657797       0.230302  4.323718e+09  2.593138e+09  2.589769e+09   \n",
       "min         0.000000       0.200000  1.000000e+10  1.000000e+09  1.000000e+09   \n",
       "25%     24999.750000       0.350000  1.350000e+10  3.000000e+09  3.000000e+09   \n",
       "50%     49999.500000       0.600000  1.700000e+10  5.000000e+09  5.000000e+09   \n",
       "75%     74999.250000       0.750000  2.100000e+10  7.500000e+09  7.500000e+09   \n",
       "max     99999.000000       0.950000  2.450000e+10  9.500000e+09  9.500000e+09   \n",
       "\n",
       "                Gain         PeakF        PeakVal         BandW        Freq10  \\\n",
       "count  100000.000000  1.000000e+05  100000.000000  1.000000e+05  1.000000e+05   \n",
       "mean        0.574911  3.428616e+09       2.374620  1.496343e+10  4.145855e+08   \n",
       "std         0.230302  4.468393e+09       3.346094  1.048535e+10  5.330043e+08   \n",
       "min         0.200000  0.000000e+00       0.200000  9.965473e+08  0.000000e+00   \n",
       "25%         0.350000  0.000000e+00       0.500000  4.770445e+09  0.000000e+00   \n",
       "50%         0.600000  0.000000e+00       0.800000  1.410597e+10  0.000000e+00   \n",
       "75%         0.750000  7.557558e+09       2.710536  2.386211e+10  8.974728e+08   \n",
       "max         0.950000  1.516517e+10      16.731528  3.965752e+10  1.768803e+09   \n",
       "\n",
       "             Freq50  \n",
       "count  1.000000e+05  \n",
       "mean   1.136585e+09  \n",
       "std    1.446972e+09  \n",
       "min   -1.000000e+00  \n",
       "25%   -1.000000e+00  \n",
       "50%   -1.000000e+00  \n",
       "75%    2.510339e+09  \n",
       "max    4.678211e+09  "
      ]
     },
     "execution_count": 43,
     "metadata": {},
     "output_type": "execute_result"
    }
   ],
   "source": [
    "# Read Data\n",
    "srcData = pd.read_csv(srcFile)\n",
    "srcData.head()\n",
    "\n",
    "# Info about the data\n",
    "srcData.head()\n",
    "srcData.info()\n",
    "srcData.describe()"
   ]
  },
  {
   "cell_type": "markdown",
   "metadata": {},
   "source": [
    "Seems full justified! Let's plot some distribution..."
   ]
  },
  {
   "cell_type": "code",
   "execution_count": 44,
   "metadata": {},
   "outputs": [
    {
     "name": "stdout",
     "output_type": "stream",
     "text": [
      "Saving figure attribute_histogram_plots\n"
     ]
    },
    {
     "data": {
      "image/png": "[encoded data removed]",
      "text/plain": [
       "<matplotlib.figure.Figure at 0x242d6944400>"
      ]
     },
     "metadata": {
      "needs_background": "light"
     },
     "output_type": "display_data"
    }
   ],
   "source": [
    "# Drop the ID column\n",
    "mdlData = srcData.drop(columns=['ID'])\n",
    "\n",
    "# plot distribution\n",
    "mdlData.hist(bins=50, figsize=(20,15))\n",
    "save_fig(\"attribute_histogram_plots\")\n",
    "plt.show()"
   ]
  },
  {
   "cell_type": "markdown",
   "metadata": {},
   "source": [
    "There are abnomal high peaks for Freq10, Freq50 and PeakF.\n",
    "We need to plot the FD data to see what's going on...\n",
    "\n",
    "#### Error checking:\n",
    "![NoPeaking](./assets/images/CTLENoPeak.png)\n",
    "\n",
    "Apparently, this is caused by CTLE without peaking. We can safely remove these data points as they will not be used in actual design."
   ]
  },
  {
   "cell_type": "code",
   "execution_count": 45,
   "metadata": {},
   "outputs": [
    {
     "name": "stdout",
     "output_type": "stream",
     "text": [
      "<class 'pandas.core.frame.DataFrame'>\n",
      "Int64Index: 41588 entries, 1 to 99997\n",
      "Data columns (total 10 columns):\n",
      "Gdc        41588 non-null float64\n",
      "P1         41588 non-null float64\n",
      "P2         41588 non-null float64\n",
      "Z1         41588 non-null float64\n",
      "Gain       41588 non-null float64\n",
      "PeakF      41588 non-null float64\n",
      "PeakVal    41588 non-null float64\n",
      "BandW      41588 non-null float64\n",
      "Freq10     41588 non-null float64\n",
      "Freq50     41588 non-null float64\n",
      "dtypes: float64(10)\n",
      "memory usage: 3.5 MB\n",
      "Saving figure attribute_histogram_plots2\n"
     ]
    },
    {
     "data": {
      "image/png": "[encoded data removed]",
      "text/plain": [
       "<matplotlib.figure.Figure at 0x242ccf2fc50>"
      ]
     },
     "metadata": {
      "needs_background": "light"
     },
     "output_type": "display_data"
    }
   ],
   "source": [
    "# Drop those freq peak at the beginning (i.e. no peak)\n",
    "mdlTemp = mdlData[(mdlData['PeakF'] > 100)]\n",
    "mdlTemp.info()\n",
    "\n",
    "\n",
    "# plot distribution again\n",
    "mdlTemp.hist(bins=50, figsize=(20,15))\n",
    "save_fig(\"attribute_histogram_plots2\")\n",
    "plt.show()"
   ]
  },
  {
   "cell_type": "markdown",
   "metadata": {},
   "source": [
    "Now the distribution seems good. We can proceed to separate variables (i.e. attributes) and targets"
   ]
  },
  {
   "cell_type": "code",
   "execution_count": 46,
   "metadata": {},
   "outputs": [],
   "source": [
    "# take this as modeling data from this point\n",
    "mdlData = mdlTemp\n",
    "\n",
    "varList = ['Gdc', 'P1', 'P2', 'Z1']\n",
    "tarList = ['Gain', 'PeakF', 'PeakVal']\n",
    "\n",
    "varData = mdlData[varList]\n",
    "tarData = mdlData[tarList]"
   ]
  },
  {
   "cell_type": "markdown",
   "metadata": {},
   "source": [
    "## **Choose a Model:**<a id = 'Choose_a_Model'></a>"
   ]
  },
  {
   "cell_type": "markdown",
   "metadata": {},
   "source": [
    "We will use Keras for the modeling framework. While it will call Tensorflow on our machine in this case, the GPU is only used for training purpose. We will use (shallow) neural network for modeling as we want to implement the resulting models in our IBIS-AMI model's C++ codes."
   ]
  },
  {
   "cell_type": "code",
   "execution_count": 47,
   "metadata": {},
   "outputs": [
    {
     "name": "stdout",
     "output_type": "stream",
     "text": [
      "_________________________________________________________________\n",
      "Layer (type)                 Output Shape              Param #   \n",
      "=================================================================\n",
      "dense_10 (Dense)             (None, 64)                320       \n",
      "_________________________________________________________________\n",
      "dropout_7 (Dropout)          (None, 64)                0         \n",
      "_________________________________________________________________\n",
      "dense_11 (Dense)             (None, 64)                4160      \n",
      "_________________________________________________________________\n",
      "dropout_8 (Dropout)          (None, 64)                0         \n",
      "_________________________________________________________________\n",
      "dense_12 (Dense)             (None, 3)                 195       \n",
      "=================================================================\n",
      "Total params: 4,675\n",
      "Trainable params: 4,675\n",
      "Non-trainable params: 0\n",
      "_________________________________________________________________\n"
     ]
    }
   ],
   "source": [
    "from keras.models import Sequential\n",
    "from keras.layers import Dense, Dropout\n",
    "\n",
    "numVars = len(varList)  # independent variables\n",
    "numTars = len(tarList)  # output targets\n",
    "nnetMdl = Sequential()\n",
    "# input layer\n",
    "nnetMdl.add(Dense(units=64, activation='relu', input_dim=numVars))\n",
    "\n",
    "# hidden layers\n",
    "nnetMdl.add(Dropout(0.3, noise_shape=None, seed=None))\n",
    "nnetMdl.add(Dense(64, activation = \"relu\"))\n",
    "nnetMdl.add(Dropout(0.2, noise_shape=None, seed=None))\n",
    "          \n",
    "# output layer\n",
    "nnetMdl.add(Dense(units=numTars, activation='sigmoid'))\n",
    "nnetMdl.compile(loss='mean_squared_error', optimizer='adam')\n",
    "\n",
    "# Provide some info\n",
    "#from keras.utils import plot_model\n",
    "#plot_model(nnetMdl, to_file= workDir + 'model.png')\n",
    "nnetMdl.summary()"
   ]
  },
  {
   "cell_type": "markdown",
   "metadata": {},
   "source": [
    "## **Training:**<a id = 'Training'></a>"
   ]
  },
  {
   "cell_type": "markdown",
   "metadata": {},
   "source": [
    "We will do the 20% training/testing split for the modeling.\n",
    "Note that we need to scale the input attributes to be between 0~1 so that neuron's activation function can be used to differentiate and calculate weights. These scaler will be applied \"inversely\" when we predict the actual performance later on."
   ]
  },
  {
   "cell_type": "code",
   "execution_count": 48,
   "metadata": {},
   "outputs": [],
   "source": [
    "from sklearn.metrics import mean_squared_error\n",
    "from sklearn.model_selection import train_test_split\n",
    "\n",
    "# Prepare Training (tran) and Validation (test) dataset\n",
    "varTran, varTest, tarTran, tarTest = train_test_split(varData, tarData, test_size=0.2)\n",
    "\n",
    "# scale the data\n",
    "from sklearn import preprocessing\n",
    "varScal = preprocessing.MinMaxScaler()\n",
    "varTran = varScal.fit_transform(varTran)\n",
    "varTest = varScal.transform(varTest)\n",
    "\n",
    "tarScal = preprocessing.MinMaxScaler()\n",
    "tarTran = tarScal.fit_transform(tarTran)"
   ]
  },
  {
   "cell_type": "markdown",
   "metadata": {},
   "source": [
    "Now we can do the model fit:"
   ]
  },
  {
   "cell_type": "code",
   "execution_count": 49,
   "metadata": {},
   "outputs": [
    {
     "name": "stdout",
     "output_type": "stream",
     "text": [
      "Train on 29943 samples, validate on 3327 samples\n",
      "Epoch 1/100\n",
      "29943/29943 [==============================] - 0s 12us/step - loss: 0.0632 - val_loss: 0.0462\n",
      "Epoch 2/100\n",
      "29943/29943 [==============================] - 0s 4us/step - loss: 0.0394 - val_loss: 0.0218\n",
      "Epoch 3/100\n",
      "29943/29943 [==============================] - 0s 3us/step - loss: 0.0218 - val_loss: 0.0090\n",
      "Epoch 4/100\n",
      "29943/29943 [==============================] - 0s 3us/step - loss: 0.0134 - val_loss: 0.0046\n",
      "Epoch 5/100\n",
      "29943/29943 [==============================] - 0s 4us/step - loss: 0.0102 - val_loss: 0.0039\n",
      "Epoch 6/100\n",
      "29943/29943 [==============================] - 0s 3us/step - loss: 0.0090 - val_loss: 0.0036\n",
      "Epoch 7/100\n",
      "29943/29943 [==============================] - 0s 3us/step - loss: 0.0082 - val_loss: 0.0032\n",
      "Epoch 8/100\n",
      "29943/29943 [==============================] - 0s 3us/step - loss: 0.0075 - val_loss: 0.0030\n",
      "Epoch 9/100\n",
      "29943/29943 [==============================] - 0s 4us/step - loss: 0.0071 - val_loss: 0.0027\n",
      "Epoch 10/100\n",
      "29943/29943 [==============================] - 0s 3us/step - loss: 0.0067 - val_loss: 0.0025\n",
      "Epoch 11/100\n",
      "29943/29943 [==============================] - 0s 3us/step - loss: 0.0063 - val_loss: 0.0022\n",
      "Epoch 12/100\n",
      "29943/29943 [==============================] - 0s 3us/step - loss: 0.0059 - val_loss: 0.0020\n",
      "Epoch 13/100\n",
      "29943/29943 [==============================] - 0s 3us/step - loss: 0.0056 - val_loss: 0.0018\n",
      "Epoch 14/100\n",
      "29943/29943 [==============================] - 0s 3us/step - loss: 0.0053 - val_loss: 0.0017\n",
      "Epoch 15/100\n",
      "29943/29943 [==============================] - 0s 3us/step - loss: 0.0050 - val_loss: 0.0015\n",
      "Epoch 16/100\n",
      "29943/29943 [==============================] - 0s 3us/step - loss: 0.0048 - val_loss: 0.0014\n",
      "Epoch 17/100\n",
      "29943/29943 [==============================] - 0s 3us/step - loss: 0.0046 - val_loss: 0.0013\n",
      "Epoch 18/100\n",
      "29943/29943 [==============================] - 0s 3us/step - loss: 0.0045 - val_loss: 0.0012\n",
      "Epoch 19/100\n",
      "29943/29943 [==============================] - 0s 3us/step - loss: 0.0043 - val_loss: 0.0011\n",
      "Epoch 20/100\n",
      "29943/29943 [==============================] - 0s 3us/step - loss: 0.0042 - val_loss: 0.0011\n",
      "Epoch 21/100\n",
      "29943/29943 [==============================] - 0s 3us/step - loss: 0.0041 - val_loss: 9.9891e-04\n",
      "Epoch 22/100\n",
      "29943/29943 [==============================] - 0s 3us/step - loss: 0.0040 - val_loss: 9.5673e-04\n",
      "Epoch 23/100\n",
      "29943/29943 [==============================] - 0s 3us/step - loss: 0.0039 - val_loss: 9.1935e-04\n",
      "Epoch 24/100\n",
      "29943/29943 [==============================] - 0s 3us/step - loss: 0.0038 - val_loss: 8.7424e-04\n",
      "Epoch 25/100\n",
      "29943/29943 [==============================] - 0s 3us/step - loss: 0.0037 - val_loss: 8.3335e-04\n",
      "Epoch 26/100\n",
      "29943/29943 [==============================] - 0s 3us/step - loss: 0.0036 - val_loss: 8.0617e-04\n",
      "Epoch 27/100\n",
      "29943/29943 [==============================] - 0s 3us/step - loss: 0.0035 - val_loss: 7.7511e-04\n",
      "Epoch 28/100\n",
      "29943/29943 [==============================] - 0s 3us/step - loss: 0.0035 - val_loss: 7.6336e-04\n",
      "Epoch 29/100\n",
      "29943/29943 [==============================] - 0s 3us/step - loss: 0.0034 - val_loss: 7.4145e-04\n",
      "Epoch 30/100\n",
      "29943/29943 [==============================] - 0s 4us/step - loss: 0.0034 - val_loss: 7.1555e-04\n",
      "Epoch 31/100\n",
      "29943/29943 [==============================] - 0s 3us/step - loss: 0.0033 - val_loss: 6.8232e-04\n",
      "Epoch 32/100\n",
      "29943/29943 [==============================] - 0s 3us/step - loss: 0.0033 - val_loss: 6.8118e-04\n",
      "Epoch 33/100\n",
      "29943/29943 [==============================] - 0s 3us/step - loss: 0.0033 - val_loss: 6.5987e-04\n",
      "Epoch 34/100\n",
      "29943/29943 [==============================] - 0s 4us/step - loss: 0.0032 - val_loss: 6.5535e-04\n",
      "Epoch 35/100\n",
      "29943/29943 [==============================] - 0s 3us/step - loss: 0.0032 - val_loss: 6.4880e-04\n",
      "Epoch 36/100\n",
      "29943/29943 [==============================] - 0s 4us/step - loss: 0.0032 - val_loss: 6.2126e-04\n",
      "Epoch 37/100\n",
      "29943/29943 [==============================] - 0s 3us/step - loss: 0.0031 - val_loss: 6.1235e-04\n",
      "Epoch 38/100\n",
      "29943/29943 [==============================] - 0s 3us/step - loss: 0.0031 - val_loss: 6.0875e-04\n",
      "Epoch 39/100\n",
      "29943/29943 [==============================] - 0s 3us/step - loss: 0.0030 - val_loss: 5.8204e-04\n",
      "Epoch 40/100\n",
      "29943/29943 [==============================] - 0s 3us/step - loss: 0.0030 - val_loss: 5.8521e-04\n",
      "Epoch 41/100\n",
      "29943/29943 [==============================] - 0s 3us/step - loss: 0.0030 - val_loss: 5.8456e-04\n",
      "Epoch 42/100\n",
      "29943/29943 [==============================] - 0s 3us/step - loss: 0.0030 - val_loss: 5.5742e-04\n",
      "Epoch 43/100\n",
      "29943/29943 [==============================] - 0s 3us/step - loss: 0.0029 - val_loss: 5.5412e-04\n",
      "Epoch 44/100\n",
      "29943/29943 [==============================] - 0s 3us/step - loss: 0.0029 - val_loss: 5.5415e-04\n",
      "Epoch 45/100\n",
      "29943/29943 [==============================] - 0s 3us/step - loss: 0.0029 - val_loss: 5.3159e-04\n",
      "Epoch 46/100\n",
      "29943/29943 [==============================] - 0s 3us/step - loss: 0.0029 - val_loss: 5.2046e-04\n",
      "Epoch 47/100\n",
      "29943/29943 [==============================] - 0s 3us/step - loss: 0.0028 - val_loss: 5.1748e-04\n",
      "Epoch 48/100\n",
      "29943/29943 [==============================] - 0s 3us/step - loss: 0.0028 - val_loss: 5.1205e-04\n",
      "Epoch 49/100\n",
      "29943/29943 [==============================] - 0s 3us/step - loss: 0.0027 - val_loss: 5.0424e-04\n",
      "Epoch 50/100\n",
      "29943/29943 [==============================] - 0s 3us/step - loss: 0.0028 - val_loss: 4.9067e-04\n",
      "Epoch 51/100\n",
      "29943/29943 [==============================] - 0s 4us/step - loss: 0.0027 - val_loss: 4.7902e-04\n",
      "Epoch 52/100\n",
      "29943/29943 [==============================] - 0s 3us/step - loss: 0.0027 - val_loss: 4.7667e-04\n",
      "Epoch 53/100\n",
      "29943/29943 [==============================] - 0s 3us/step - loss: 0.0026 - val_loss: 4.6521e-04\n",
      "Epoch 54/100\n",
      "29943/29943 [==============================] - 0s 3us/step - loss: 0.0026 - val_loss: 4.6684e-04\n",
      "Epoch 55/100\n",
      "29943/29943 [==============================] - 0s 4us/step - loss: 0.0026 - val_loss: 4.7006e-04\n",
      "Epoch 56/100\n",
      "29943/29943 [==============================] - 0s 4us/step - loss: 0.0026 - val_loss: 4.5770e-04\n",
      "Epoch 57/100\n",
      "29943/29943 [==============================] - 0s 4us/step - loss: 0.0025 - val_loss: 4.3075e-04\n",
      "Epoch 58/100\n",
      "29943/29943 [==============================] - 0s 4us/step - loss: 0.0025 - val_loss: 4.3796e-04\n",
      "Epoch 59/100\n",
      "29943/29943 [==============================] - 0s 4us/step - loss: 0.0025 - val_loss: 4.3114e-04\n",
      "Epoch 60/100\n",
      "29943/29943 [==============================] - 0s 3us/step - loss: 0.0025 - val_loss: 4.1051e-04\n",
      "Epoch 61/100\n",
      "29943/29943 [==============================] - 0s 3us/step - loss: 0.0025 - val_loss: 4.0642e-04\n",
      "Epoch 62/100\n",
      "29943/29943 [==============================] - 0s 3us/step - loss: 0.0025 - val_loss: 4.1214e-04\n",
      "Epoch 63/100\n",
      "29943/29943 [==============================] - 0s 3us/step - loss: 0.0025 - val_loss: 3.9472e-04\n",
      "Epoch 64/100\n",
      "29943/29943 [==============================] - 0s 3us/step - loss: 0.0024 - val_loss: 3.9697e-04\n",
      "Epoch 65/100\n",
      "29943/29943 [==============================] - 0s 3us/step - loss: 0.0024 - val_loss: 3.8548e-04\n",
      "Epoch 66/100\n",
      "29943/29943 [==============================] - 0s 4us/step - loss: 0.0024 - val_loss: 3.9030e-04\n",
      "Epoch 67/100\n",
      "29943/29943 [==============================] - 0s 3us/step - loss: 0.0023 - val_loss: 3.7588e-04\n",
      "Epoch 68/100\n",
      "29943/29943 [==============================] - 0s 3us/step - loss: 0.0024 - val_loss: 3.6643e-04\n",
      "Epoch 69/100\n",
      "29943/29943 [==============================] - 0s 3us/step - loss: 0.0023 - val_loss: 3.6973e-04\n",
      "Epoch 70/100\n",
      "29943/29943 [==============================] - 0s 3us/step - loss: 0.0023 - val_loss: 3.6345e-04\n",
      "Epoch 71/100\n",
      "29943/29943 [==============================] - 0s 3us/step - loss: 0.0023 - val_loss: 3.5743e-04\n",
      "Epoch 72/100\n",
      "29943/29943 [==============================] - 0s 4us/step - loss: 0.0023 - val_loss: 3.5294e-04\n",
      "Epoch 73/100\n",
      "29943/29943 [==============================] - 0s 3us/step - loss: 0.0023 - val_loss: 3.6533e-04\n",
      "Epoch 74/100\n",
      "29943/29943 [==============================] - 0s 3us/step - loss: 0.0022 - val_loss: 3.5859e-04\n",
      "Epoch 75/100\n",
      "29943/29943 [==============================] - 0s 4us/step - loss: 0.0022 - val_loss: 3.3832e-04\n"
     ]
    },
    {
     "name": "stdout",
     "output_type": "stream",
     "text": [
      "Epoch 76/100\n",
      "29943/29943 [==============================] - 0s 4us/step - loss: 0.0022 - val_loss: 3.5197e-04\n",
      "Epoch 77/100\n",
      "29943/29943 [==============================] - 0s 3us/step - loss: 0.0022 - val_loss: 3.4445e-04\n",
      "Epoch 78/100\n",
      "29943/29943 [==============================] - 0s 3us/step - loss: 0.0022 - val_loss: 3.3888e-04\n",
      "Epoch 79/100\n",
      "29943/29943 [==============================] - 0s 3us/step - loss: 0.0022 - val_loss: 3.3597e-04\n",
      "Epoch 80/100\n",
      "29943/29943 [==============================] - 0s 3us/step - loss: 0.0022 - val_loss: 3.2317e-04\n",
      "Epoch 81/100\n",
      "29943/29943 [==============================] - 0s 4us/step - loss: 0.0021 - val_loss: 3.2205e-04\n",
      "Epoch 82/100\n",
      "29943/29943 [==============================] - 0s 3us/step - loss: 0.0021 - val_loss: 3.4191e-04\n",
      "Epoch 83/100\n",
      "29943/29943 [==============================] - 0s 3us/step - loss: 0.0021 - val_loss: 3.2288e-04\n",
      "Epoch 84/100\n",
      "29943/29943 [==============================] - 0s 3us/step - loss: 0.0021 - val_loss: 3.1419e-04\n",
      "Epoch 85/100\n",
      "29943/29943 [==============================] - 0s 3us/step - loss: 0.0021 - val_loss: 3.1307e-04\n",
      "Epoch 86/100\n",
      "29943/29943 [==============================] - 0s 3us/step - loss: 0.0021 - val_loss: 3.1795e-04\n",
      "Epoch 87/100\n",
      "29943/29943 [==============================] - 0s 3us/step - loss: 0.0021 - val_loss: 3.1200e-04\n",
      "Epoch 88/100\n",
      "29943/29943 [==============================] - 0s 3us/step - loss: 0.0021 - val_loss: 3.0641e-04\n",
      "Epoch 89/100\n",
      "29943/29943 [==============================] - 0s 3us/step - loss: 0.0021 - val_loss: 3.2401e-04\n",
      "Epoch 90/100\n",
      "29943/29943 [==============================] - 0s 3us/step - loss: 0.0021 - val_loss: 3.0903e-04\n",
      "Epoch 91/100\n",
      "29943/29943 [==============================] - 0s 3us/step - loss: 0.0020 - val_loss: 3.1448e-04\n",
      "Epoch 92/100\n",
      "29943/29943 [==============================] - 0s 3us/step - loss: 0.0020 - val_loss: 3.0788e-04\n",
      "Epoch 93/100\n",
      "29943/29943 [==============================] - 0s 3us/step - loss: 0.0020 - val_loss: 3.0349e-04\n",
      "Epoch 94/100\n",
      "29943/29943 [==============================] - 0s 3us/step - loss: 0.0020 - val_loss: 3.0098e-04\n",
      "Epoch 95/100\n",
      "29943/29943 [==============================] - 0s 4us/step - loss: 0.0020 - val_loss: 3.1119e-04\n",
      "Epoch 96/100\n",
      "29943/29943 [==============================] - 0s 3us/step - loss: 0.0020 - val_loss: 3.0249e-04\n",
      "Epoch 97/100\n",
      "29943/29943 [==============================] - 0s 3us/step - loss: 0.0020 - val_loss: 2.8934e-04\n",
      "Epoch 98/100\n",
      "29943/29943 [==============================] - 0s 3us/step - loss: 0.0020 - val_loss: 2.9429e-04\n",
      "Epoch 99/100\n",
      "29943/29943 [==============================] - 0s 3us/step - loss: 0.0020 - val_loss: 2.8466e-04\n",
      "Epoch 100/100\n",
      "29943/29943 [==============================] - 0s 3us/step - loss: 0.0019 - val_loss: 3.0773e-04\n"
     ]
    },
    {
     "data": {
      "text/plain": [
       "0.01786895428237113"
      ]
     },
     "execution_count": 49,
     "metadata": {},
     "output_type": "execute_result"
    }
   ],
   "source": [
    "# model fit\n",
    "hist = nnetMdl.fit(varTran, tarTran, epochs=100, batch_size=1000, validation_split=0.1)\n",
    "tarTemp = nnetMdl.predict(varTest, batch_size=1000)\n",
    "#predict = tarScal.inverse_transform(tarTemp)\n",
    "#resRMSE = np.sqrt(mean_squared_error(tarTest, predict))\n",
    "resRMSE = np.sqrt(mean_squared_error(tarScal.transform(tarTest), tarTemp))\n",
    "resRMSE"
   ]
  },
  {
   "cell_type": "markdown",
   "metadata": {},
   "source": [
    "Let's see how this neural network learns over different Epoch"
   ]
  },
  {
   "cell_type": "code",
   "execution_count": 50,
   "metadata": {},
   "outputs": [
    {
     "data": {
      "image/png": "[encoded data removed]",
      "text/plain": [
       "<matplotlib.figure.Figure at 0x242d6b060f0>"
      ]
     },
     "metadata": {
      "needs_background": "light"
     },
     "output_type": "display_data"
    }
   ],
   "source": [
    "# plot history\n",
    "plt.plot(hist.history['loss'])\n",
    "plt.title('Model loss')\n",
    "plt.ylabel('Loss')\n",
    "plt.xlabel('Epoch')\n",
    "plt.legend(['Train', 'Val'], loc='upper right')\n",
    "plt.show()"
   ]
  },
  {
   "cell_type": "markdown",
   "metadata": {},
   "source": [
    "Looks quite reasonable. We can save the Keras model now together with scaler for later evaluation."
   ]
  },
  {
   "cell_type": "code",
   "execution_count": 51,
   "metadata": {},
   "outputs": [
    {
     "name": "stdout",
     "output_type": "stream",
     "text": [
      "Saved model to disk\n"
     ]
    }
   ],
   "source": [
    "# save model and architecture to single file\n",
    "nnetMdl.save(workDir + \"COM_nnetMdl.h5\")\n",
    "\n",
    "# also save scaler\n",
    "from sklearn.externals import joblib\n",
    "joblib.dump(varScal, workDir + 'VarScaler.save') \n",
    "joblib.dump(tarScal, workDir + 'TarScaler.save') \n",
    "print(\"Saved model to disk\")"
   ]
  },
  {
   "cell_type": "markdown",
   "metadata": {},
   "source": [
    "## **Prediction:**<a id = 'Prediction'></a>"
   ]
  },
  {
   "cell_type": "markdown",
   "metadata": {},
   "source": [
    "Now let's use this model to make some prediction"
   ]
  },
  {
   "cell_type": "code",
   "execution_count": 52,
   "metadata": {},
   "outputs": [],
   "source": [
    "# generate prediction\n",
    "predict = tarScal.inverse_transform(tarTemp)\n",
    "allData = np.concatenate([varTest, tarTest, predict], axis = 1)\n",
    "allData.shape\n",
    "headLst = [varList, tarList, tarList]\n",
    "headStr = ''.join(str(e) + ',' for e in headLst)\n",
    "np.savetxt(workDir + 'COMCtleIOP.csv', allData, delimiter=',', header=headStr)"
   ]
  },
  {
   "cell_type": "markdown",
   "metadata": {},
   "source": [
    "Let's take some 50 points and see how the prediction work"
   ]
  },
  {
   "cell_type": "code",
   "execution_count": 53,
   "metadata": {},
   "outputs": [
    {
     "data": {
      "text/plain": [
       "<matplotlib.collections.PathCollection at 0x242d059d390>"
      ]
     },
     "execution_count": 53,
     "metadata": {},
     "output_type": "execute_result"
    },
    {
     "data": {
      "image/png": "[encoded data removed]",
      "text/plain": [
       "<matplotlib.figure.Figure at 0x242ccf64c50>"
      ]
     },
     "metadata": {
      "needs_background": "light"
     },
     "output_type": "display_data"
    }
   ],
   "source": [
    "# plot some data\n",
    "begIndx = 100\n",
    "endIndx = 150\n",
    "indxAry = np.arange(0, len(varTest), 1)\n",
    "\n",
    "plt.scatter(indxAry[begIndx:endIndx], tarTest.iloc[:,0][begIndx:endIndx])\n",
    "plt.scatter(indxAry[begIndx:endIndx], predict[:,0][begIndx:endIndx])"
   ]
  },
  {
   "cell_type": "code",
   "execution_count": 54,
   "metadata": {},
   "outputs": [
    {
     "data": {
      "text/plain": [
       "<matplotlib.collections.PathCollection at 0x242d72df2e8>"
      ]
     },
     "execution_count": 54,
     "metadata": {},
     "output_type": "execute_result"
    },
    {
     "data": {
      "image/png": "[encoded data removed]",
      "text/plain": [
       "<matplotlib.figure.Figure at 0x242d05640f0>"
      ]
     },
     "metadata": {
      "needs_background": "light"
     },
     "output_type": "display_data"
    }
   ],
   "source": [
    "# Plot Peak Freq.\n",
    "plt.scatter(indxAry[begIndx:endIndx], tarTest.iloc[:,1][begIndx:endIndx])\n",
    "plt.scatter(indxAry[begIndx:endIndx], predict[:,1][begIndx:endIndx])"
   ]
  },
  {
   "cell_type": "code",
   "execution_count": 55,
   "metadata": {},
   "outputs": [
    {
     "data": {
      "text/plain": [
       "<matplotlib.collections.PathCollection at 0x242d5ea39e8>"
      ]
     },
     "execution_count": 55,
     "metadata": {},
     "output_type": "execute_result"
    },
    {
     "data": {
      "image/png": "[encoded data removed]",
      "text/plain": [
       "<matplotlib.figure.Figure at 0x242d0564e80>"
      ]
     },
     "metadata": {
      "needs_background": "light"
     },
     "output_type": "display_data"
    }
   ],
   "source": [
    "# Plot Peak Value\n",
    "plt.scatter(indxAry[begIndx:endIndx], tarTest.iloc[:,2][begIndx:endIndx])\n",
    "plt.scatter(indxAry[begIndx:endIndx], predict[:,2][begIndx:endIndx])"
   ]
  },
  {
   "cell_type": "markdown",
   "metadata": {},
   "source": [
    "## **Reverse Direction:**<a id = 'Reverse_Direction'></a>"
   ]
  },
  {
   "cell_type": "markdown",
   "metadata": {},
   "source": [
    "The goal of this modeling is to map performance to CTLE poles and zeros locations. What we just did is the other way around (to make sure such neural network's structure meets our need). Now we needs to reverse the direction for actual modeling. To provide more attributes for better predictions, we will also use  frequencies where 10% and 50% gain happened as part of the input attributes."
   ]
  },
  {
   "cell_type": "code",
   "execution_count": 56,
   "metadata": {},
   "outputs": [],
   "source": [
    "tarList = ['Gdc', 'P1', 'P2', 'Z1']\n",
    "varList = ['Gain', 'PeakF', 'PeakVal', 'Freq10', 'Freq50']\n",
    "\n",
    "varData = mdlData[varList]\n",
    "tarData = mdlData[tarList]"
   ]
  },
  {
   "cell_type": "code",
   "execution_count": 57,
   "metadata": {},
   "outputs": [
    {
     "name": "stdout",
     "output_type": "stream",
     "text": [
      "_________________________________________________________________\n",
      "Layer (type)                 Output Shape              Param #   \n",
      "=================================================================\n",
      "dense_13 (Dense)             (None, 64)                384       \n",
      "_________________________________________________________________\n",
      "dropout_9 (Dropout)          (None, 64)                0         \n",
      "_________________________________________________________________\n",
      "dense_14 (Dense)             (None, 64)                4160      \n",
      "_________________________________________________________________\n",
      "dropout_10 (Dropout)         (None, 64)                0         \n",
      "_________________________________________________________________\n",
      "dense_15 (Dense)             (None, 4)                 260       \n",
      "=================================================================\n",
      "Total params: 4,804\n",
      "Trainable params: 4,804\n",
      "Non-trainable params: 0\n",
      "_________________________________________________________________\n"
     ]
    }
   ],
   "source": [
    "from keras.models import Sequential\n",
    "from keras.layers import Dense, Dropout\n",
    "\n",
    "numVars = len(varList)  # independent variables\n",
    "numTars = len(tarList)  # output targets\n",
    "nnetMdl = Sequential()\n",
    "# input layer\n",
    "nnetMdl.add(Dense(units=64, activation='relu', input_dim=numVars))\n",
    "\n",
    "# hidden layers\n",
    "nnetMdl.add(Dropout(0.3, noise_shape=None, seed=None))\n",
    "nnetMdl.add(Dense(64, activation = \"relu\"))\n",
    "nnetMdl.add(Dropout(0.2, noise_shape=None, seed=None))\n",
    "          \n",
    "# output layer\n",
    "nnetMdl.add(Dense(units=numTars, activation='sigmoid'))\n",
    "nnetMdl.compile(loss='mean_squared_error', optimizer='adam')\n",
    "\n",
    "# Provide some info\n",
    "#from keras.utils import plot_model\n",
    "#plot_model(nnetMdl, to_file= workDir + 'model.png')\n",
    "nnetMdl.summary()"
   ]
  },
  {
   "cell_type": "code",
   "execution_count": 58,
   "metadata": {},
   "outputs": [],
   "source": [
    "from sklearn.metrics import mean_squared_error\n",
    "from sklearn.model_selection import train_test_split\n",
    "\n",
    "# Prepare Training (tran) and Validation (test) dataset\n",
    "varTran, varTest, tarTran, tarTest = train_test_split(varData, tarData, test_size=0.2)\n",
    "\n",
    "# scale the data\n",
    "from sklearn import preprocessing\n",
    "varScal = preprocessing.MinMaxScaler()\n",
    "varTran = varScal.fit_transform(varTran)\n",
    "varTest = varScal.transform(varTest)\n",
    "\n",
    "tarScal = preprocessing.MinMaxScaler()\n",
    "tarTran = tarScal.fit_transform(tarTran)"
   ]
  },
  {
   "cell_type": "code",
   "execution_count": 59,
   "metadata": {},
   "outputs": [
    {
     "name": "stdout",
     "output_type": "stream",
     "text": [
      "Train on 29943 samples, validate on 3327 samples\n",
      "Epoch 1/100\n",
      "29943/29943 [==============================] - 0s 15us/step - loss: 0.0800 - val_loss: 0.0638\n",
      "Epoch 2/100\n",
      "29943/29943 [==============================] - 0s 3us/step - loss: 0.0578 - val_loss: 0.0457\n",
      "Epoch 3/100\n",
      "29943/29943 [==============================] - 0s 3us/step - loss: 0.0458 - val_loss: 0.0380\n",
      "Epoch 4/100\n",
      "29943/29943 [==============================] - 0s 3us/step - loss: 0.0408 - val_loss: 0.0344\n",
      "Epoch 5/100\n",
      "29943/29943 [==============================] - 0s 3us/step - loss: 0.0378 - val_loss: 0.0317\n",
      "Epoch 6/100\n",
      "29943/29943 [==============================] - 0s 4us/step - loss: 0.0354 - val_loss: 0.0299\n",
      "Epoch 7/100\n",
      "29943/29943 [==============================] - 0s 3us/step - loss: 0.0340 - val_loss: 0.0287\n",
      "Epoch 8/100\n",
      "29943/29943 [==============================] - 0s 3us/step - loss: 0.0327 - val_loss: 0.0276\n",
      "Epoch 9/100\n",
      "29943/29943 [==============================] - 0s 3us/step - loss: 0.0315 - val_loss: 0.0265\n",
      "Epoch 10/100\n",
      "29943/29943 [==============================] - 0s 4us/step - loss: 0.0303 - val_loss: 0.0254\n",
      "Epoch 11/100\n",
      "29943/29943 [==============================] - 0s 4us/step - loss: 0.0293 - val_loss: 0.0244\n",
      "Epoch 12/100\n",
      "29943/29943 [==============================] - 0s 4us/step - loss: 0.0284 - val_loss: 0.0235\n",
      "Epoch 13/100\n",
      "29943/29943 [==============================] - 0s 3us/step - loss: 0.0274 - val_loss: 0.0225\n",
      "Epoch 14/100\n",
      "29943/29943 [==============================] - 0s 3us/step - loss: 0.0266 - val_loss: 0.0215\n",
      "Epoch 15/100\n",
      "29943/29943 [==============================] - 0s 3us/step - loss: 0.0257 - val_loss: 0.0202\n",
      "Epoch 16/100\n",
      "29943/29943 [==============================] - 0s 3us/step - loss: 0.0245 - val_loss: 0.0189\n",
      "Epoch 17/100\n",
      "29943/29943 [==============================] - 0s 3us/step - loss: 0.0235 - val_loss: 0.0175\n",
      "Epoch 18/100\n",
      "29943/29943 [==============================] - 0s 3us/step - loss: 0.0223 - val_loss: 0.0160\n",
      "Epoch 19/100\n",
      "29943/29943 [==============================] - 0s 3us/step - loss: 0.0213 - val_loss: 0.0146\n",
      "Epoch 20/100\n",
      "29943/29943 [==============================] - 0s 3us/step - loss: 0.0202 - val_loss: 0.0135\n",
      "Epoch 21/100\n",
      "29943/29943 [==============================] - 0s 3us/step - loss: 0.0193 - val_loss: 0.0125\n",
      "Epoch 22/100\n",
      "29943/29943 [==============================] - 0s 3us/step - loss: 0.0186 - val_loss: 0.0117\n",
      "Epoch 23/100\n",
      "29943/29943 [==============================] - 0s 3us/step - loss: 0.0179 - val_loss: 0.0109\n",
      "Epoch 24/100\n",
      "29943/29943 [==============================] - 0s 3us/step - loss: 0.0171 - val_loss: 0.0104\n",
      "Epoch 25/100\n",
      "29943/29943 [==============================] - 0s 3us/step - loss: 0.0167 - val_loss: 0.0099\n",
      "Epoch 26/100\n",
      "29943/29943 [==============================] - 0s 3us/step - loss: 0.0163 - val_loss: 0.0094\n",
      "Epoch 27/100\n",
      "29943/29943 [==============================] - 0s 4us/step - loss: 0.0156 - val_loss: 0.0090\n",
      "Epoch 28/100\n",
      "29943/29943 [==============================] - 0s 4us/step - loss: 0.0154 - val_loss: 0.0087\n",
      "Epoch 29/100\n",
      "29943/29943 [==============================] - 0s 4us/step - loss: 0.0151 - val_loss: 0.0084\n",
      "Epoch 30/100\n",
      "29943/29943 [==============================] - 0s 3us/step - loss: 0.0146 - val_loss: 0.0081\n",
      "Epoch 31/100\n",
      "29943/29943 [==============================] - 0s 3us/step - loss: 0.0143 - val_loss: 0.0077\n",
      "Epoch 32/100\n",
      "29943/29943 [==============================] - 0s 3us/step - loss: 0.0139 - val_loss: 0.0074\n",
      "Epoch 33/100\n",
      "29943/29943 [==============================] - 0s 3us/step - loss: 0.0138 - val_loss: 0.0072\n",
      "Epoch 34/100\n",
      "29943/29943 [==============================] - 0s 4us/step - loss: 0.0135 - val_loss: 0.0071\n",
      "Epoch 35/100\n",
      "29943/29943 [==============================] - 0s 4us/step - loss: 0.0132 - val_loss: 0.0069\n",
      "Epoch 36/100\n",
      "29943/29943 [==============================] - 0s 3us/step - loss: 0.0131 - val_loss: 0.0068\n",
      "Epoch 37/100\n",
      "29943/29943 [==============================] - 0s 3us/step - loss: 0.0130 - val_loss: 0.0066\n",
      "Epoch 38/100\n",
      "29943/29943 [==============================] - 0s 3us/step - loss: 0.0129 - val_loss: 0.0065\n",
      "Epoch 39/100\n",
      "29943/29943 [==============================] - 0s 3us/step - loss: 0.0127 - val_loss: 0.0063\n",
      "Epoch 40/100\n",
      "29943/29943 [==============================] - 0s 3us/step - loss: 0.0124 - val_loss: 0.0062\n",
      "Epoch 41/100\n",
      "29943/29943 [==============================] - 0s 4us/step - loss: 0.0122 - val_loss: 0.0061\n",
      "Epoch 42/100\n",
      "29943/29943 [==============================] - 0s 4us/step - loss: 0.0122 - val_loss: 0.0059\n",
      "Epoch 43/100\n",
      "29943/29943 [==============================] - 0s 3us/step - loss: 0.0120 - val_loss: 0.0059\n",
      "Epoch 44/100\n",
      "29943/29943 [==============================] - 0s 4us/step - loss: 0.0119 - val_loss: 0.0057\n",
      "Epoch 45/100\n",
      "29943/29943 [==============================] - 0s 4us/step - loss: 0.0118 - val_loss: 0.0057\n",
      "Epoch 46/100\n",
      "29943/29943 [==============================] - 0s 3us/step - loss: 0.0117 - val_loss: 0.0056\n",
      "Epoch 47/100\n",
      "29943/29943 [==============================] - 0s 3us/step - loss: 0.0115 - val_loss: 0.0055\n",
      "Epoch 48/100\n",
      "29943/29943 [==============================] - 0s 3us/step - loss: 0.0114 - val_loss: 0.0055\n",
      "Epoch 49/100\n",
      "29943/29943 [==============================] - 0s 3us/step - loss: 0.0114 - val_loss: 0.0055\n",
      "Epoch 50/100\n",
      "29943/29943 [==============================] - 0s 3us/step - loss: 0.0112 - val_loss: 0.0053\n",
      "Epoch 51/100\n",
      "29943/29943 [==============================] - 0s 3us/step - loss: 0.0111 - val_loss: 0.0052\n",
      "Epoch 52/100\n",
      "29943/29943 [==============================] - 0s 3us/step - loss: 0.0112 - val_loss: 0.0052\n",
      "Epoch 53/100\n",
      "29943/29943 [==============================] - 0s 3us/step - loss: 0.0111 - val_loss: 0.0052\n",
      "Epoch 54/100\n",
      "29943/29943 [==============================] - 0s 3us/step - loss: 0.0109 - val_loss: 0.0051\n",
      "Epoch 55/100\n",
      "29943/29943 [==============================] - 0s 3us/step - loss: 0.0108 - val_loss: 0.0050\n",
      "Epoch 56/100\n",
      "29943/29943 [==============================] - 0s 4us/step - loss: 0.0107 - val_loss: 0.0049\n",
      "Epoch 57/100\n",
      "29943/29943 [==============================] - 0s 3us/step - loss: 0.0107 - val_loss: 0.0050\n",
      "Epoch 58/100\n",
      "29943/29943 [==============================] - 0s 3us/step - loss: 0.0107 - val_loss: 0.0049\n",
      "Epoch 59/100\n",
      "29943/29943 [==============================] - 0s 3us/step - loss: 0.0106 - val_loss: 0.0048\n",
      "Epoch 60/100\n",
      "29943/29943 [==============================] - 0s 3us/step - loss: 0.0104 - val_loss: 0.0047\n",
      "Epoch 61/100\n",
      "29943/29943 [==============================] - 0s 3us/step - loss: 0.0103 - val_loss: 0.0046\n",
      "Epoch 62/100\n",
      "29943/29943 [==============================] - 0s 3us/step - loss: 0.0102 - val_loss: 0.0046\n",
      "Epoch 63/100\n",
      "29943/29943 [==============================] - 0s 3us/step - loss: 0.0103 - val_loss: 0.0046\n",
      "Epoch 64/100\n",
      "29943/29943 [==============================] - 0s 3us/step - loss: 0.0102 - val_loss: 0.0045\n",
      "Epoch 65/100\n",
      "29943/29943 [==============================] - 0s 3us/step - loss: 0.0101 - val_loss: 0.0044\n",
      "Epoch 66/100\n",
      "29943/29943 [==============================] - 0s 3us/step - loss: 0.0101 - val_loss: 0.0044\n",
      "Epoch 67/100\n",
      "29943/29943 [==============================] - 0s 3us/step - loss: 0.0100 - val_loss: 0.0045\n",
      "Epoch 68/100\n",
      "29943/29943 [==============================] - 0s 3us/step - loss: 0.0098 - val_loss: 0.0043\n",
      "Epoch 69/100\n",
      "29943/29943 [==============================] - 0s 3us/step - loss: 0.0098 - val_loss: 0.0043\n",
      "Epoch 70/100\n",
      "29943/29943 [==============================] - 0s 3us/step - loss: 0.0098 - val_loss: 0.0043\n",
      "Epoch 71/100\n",
      "29943/29943 [==============================] - 0s 3us/step - loss: 0.0097 - val_loss: 0.0042\n",
      "Epoch 72/100\n",
      "29943/29943 [==============================] - 0s 3us/step - loss: 0.0096 - val_loss: 0.0043\n",
      "Epoch 73/100\n",
      "29943/29943 [==============================] - 0s 3us/step - loss: 0.0096 - val_loss: 0.0041\n",
      "Epoch 74/100\n",
      "29943/29943 [==============================] - 0s 3us/step - loss: 0.0094 - val_loss: 0.0042\n",
      "Epoch 75/100\n",
      "29943/29943 [==============================] - 0s 3us/step - loss: 0.0094 - val_loss: 0.0041\n",
      "Epoch 76/100\n",
      "29943/29943 [==============================] - 0s 3us/step - loss: 0.0094 - val_loss: 0.0041\n",
      "Epoch 77/100\n",
      "29943/29943 [==============================] - 0s 3us/step - loss: 0.0093 - val_loss: 0.0040\n"
     ]
    },
    {
     "name": "stdout",
     "output_type": "stream",
     "text": [
      "Epoch 78/100\n",
      "29943/29943 [==============================] - 0s 3us/step - loss: 0.0094 - val_loss: 0.0040\n",
      "Epoch 79/100\n",
      "29943/29943 [==============================] - 0s 3us/step - loss: 0.0093 - val_loss: 0.0040\n",
      "Epoch 80/100\n",
      "29943/29943 [==============================] - 0s 3us/step - loss: 0.0092 - val_loss: 0.0039\n",
      "Epoch 81/100\n",
      "29943/29943 [==============================] - 0s 3us/step - loss: 0.0091 - val_loss: 0.0039\n",
      "Epoch 82/100\n",
      "29943/29943 [==============================] - 0s 3us/step - loss: 0.0091 - val_loss: 0.0039\n",
      "Epoch 83/100\n",
      "29943/29943 [==============================] - 0s 3us/step - loss: 0.0091 - val_loss: 0.0039\n",
      "Epoch 84/100\n",
      "29943/29943 [==============================] - 0s 3us/step - loss: 0.0091 - val_loss: 0.0038\n",
      "Epoch 85/100\n",
      "29943/29943 [==============================] - 0s 3us/step - loss: 0.0090 - val_loss: 0.0039\n",
      "Epoch 86/100\n",
      "29943/29943 [==============================] - 0s 3us/step - loss: 0.0089 - val_loss: 0.0038\n",
      "Epoch 87/100\n",
      "29943/29943 [==============================] - 0s 3us/step - loss: 0.0089 - val_loss: 0.0038\n",
      "Epoch 88/100\n",
      "29943/29943 [==============================] - 0s 3us/step - loss: 0.0088 - val_loss: 0.0037\n",
      "Epoch 89/100\n",
      "29943/29943 [==============================] - 0s 4us/step - loss: 0.0088 - val_loss: 0.0037\n",
      "Epoch 90/100\n",
      "29943/29943 [==============================] - 0s 3us/step - loss: 0.0087 - val_loss: 0.0037\n",
      "Epoch 91/100\n",
      "29943/29943 [==============================] - 0s 3us/step - loss: 0.0087 - val_loss: 0.0037\n",
      "Epoch 92/100\n",
      "29943/29943 [==============================] - 0s 3us/step - loss: 0.0086 - val_loss: 0.0036\n",
      "Epoch 93/100\n",
      "29943/29943 [==============================] - 0s 3us/step - loss: 0.0087 - val_loss: 0.0037\n",
      "Epoch 94/100\n",
      "29943/29943 [==============================] - 0s 3us/step - loss: 0.0086 - val_loss: 0.0036\n",
      "Epoch 95/100\n",
      "29943/29943 [==============================] - 0s 3us/step - loss: 0.0084 - val_loss: 0.0036\n",
      "Epoch 96/100\n",
      "29943/29943 [==============================] - 0s 3us/step - loss: 0.0086 - val_loss: 0.0036\n",
      "Epoch 97/100\n",
      "29943/29943 [==============================] - 0s 3us/step - loss: 0.0085 - val_loss: 0.0036\n",
      "Epoch 98/100\n",
      "29943/29943 [==============================] - 0s 3us/step - loss: 0.0085 - val_loss: 0.0035\n",
      "Epoch 99/100\n",
      "29943/29943 [==============================] - 0s 3us/step - loss: 0.0085 - val_loss: 0.0035\n",
      "Epoch 100/100\n",
      "29943/29943 [==============================] - 0s 3us/step - loss: 0.0084 - val_loss: 0.0034\n"
     ]
    },
    {
     "data": {
      "text/plain": [
       "0.0589564154176633"
      ]
     },
     "execution_count": 59,
     "metadata": {},
     "output_type": "execute_result"
    }
   ],
   "source": [
    "# model fit\n",
    "hist = nnetMdl.fit(varTran, tarTran, epochs=100, batch_size=1000, validation_split=0.1)\n",
    "tarTemp = nnetMdl.predict(varTest, batch_size=1000)\n",
    "#predict = tarScal.inverse_transform(tarTemp)\n",
    "#resRMSE = np.sqrt(mean_squared_error(tarTest, predict))\n",
    "resRMSE = np.sqrt(mean_squared_error(tarScal.transform(tarTest), tarTemp))\n",
    "resRMSE"
   ]
  },
  {
   "cell_type": "code",
   "execution_count": 60,
   "metadata": {},
   "outputs": [
    {
     "data": {
      "image/png": "[encoded data removed]",
      "text/plain": [
       "<matplotlib.figure.Figure at 0x242d726bf28>"
      ]
     },
     "metadata": {
      "needs_background": "light"
     },
     "output_type": "display_data"
    }
   ],
   "source": [
    "# plot history\n",
    "plt.plot(hist.history['loss'])\n",
    "plt.title('Model loss')\n",
    "plt.ylabel('Loss')\n",
    "plt.xlabel('Epoch')\n",
    "plt.legend(['Train', 'Val'], loc='upper right')\n",
    "plt.show()"
   ]
  },
  {
   "cell_type": "code",
   "execution_count": 61,
   "metadata": {},
   "outputs": [
    {
     "name": "stdout",
     "output_type": "stream",
     "text": [
      "Saved model to disk\n"
     ]
    },
    {
     "data": {
      "text/plain": [
       "['C:/Temp/WinProj/CTLEMdl/wsp/Rev_TarScaler.save']"
      ]
     },
     "execution_count": 61,
     "metadata": {},
     "output_type": "execute_result"
    }
   ],
   "source": [
    "# Separated Keras' architecture and synopse weight for later Cpp conversion\n",
    "from keras.models import model_from_json\n",
    "# serialize model to JSON\n",
    "nnetMdl_json = nnetMdl.to_json()\n",
    "with open(\"COM_nnetMdl_Rev.json\", \"w\") as json_file:\n",
    "    json_file.write(nnetMdl_json)\n",
    "# serialize weights to HDF5\n",
    "nnetMdl.save_weights(\"COM_nnetMdl_W_Rev.h5\")\n",
    "\n",
    "# save model and architecture to single file\n",
    "nnetMdl.save(workDir + \"COM_nnetMdl_Rev.h5\")\n",
    "print(\"Saved model to disk\")\n",
    "\n",
    "# also save scaler\n",
    "from sklearn.externals import joblib\n",
    "joblib.dump(varScal, workDir + 'Rev_VarScaler.save') \n",
    "joblib.dump(tarScal, workDir + 'Rev_TarScaler.save') "
   ]
  },
  {
   "cell_type": "code",
   "execution_count": 62,
   "metadata": {},
   "outputs": [],
   "source": [
    "# generate prediction\n",
    "predict = tarScal.inverse_transform(tarTemp)\n",
    "allData = np.concatenate([varTest, tarTest, predict], axis = 1)\n",
    "allData.shape\n",
    "headLst = [varList, tarList, tarList]\n",
    "headStr = ''.join(str(e) + ',' for e in headLst)\n",
    "np.savetxt(workDir + 'COMCtleIOP_Rev.csv', allData, delimiter=',', header=headStr)"
   ]
  },
  {
   "cell_type": "code",
   "execution_count": 63,
   "metadata": {},
   "outputs": [
    {
     "data": {
      "text/plain": [
       "<matplotlib.collections.PathCollection at 0x242ccefe1d0>"
      ]
     },
     "execution_count": 63,
     "metadata": {},
     "output_type": "execute_result"
    },
    {
     "data": {
      "image/png": "[encoded data removed]",
      "text/plain": [
       "<matplotlib.figure.Figure at 0x242d5fabe80>"
      ]
     },
     "metadata": {
      "needs_background": "light"
     },
     "output_type": "display_data"
    }
   ],
   "source": [
    "# plot Gdc\n",
    "begIndx = 100\n",
    "endIndx = 150\n",
    "indxAry = np.arange(0, len(varTest), 1)\n",
    "plt.scatter(indxAry[begIndx:endIndx], tarTest.iloc[:,0][begIndx:endIndx])\n",
    "plt.scatter(indxAry[begIndx:endIndx], predict[:,0][begIndx:endIndx])"
   ]
  },
  {
   "cell_type": "code",
   "execution_count": 64,
   "metadata": {},
   "outputs": [
    {
     "data": {
      "text/plain": [
       "<matplotlib.collections.PathCollection at 0x242ccc7c470>"
      ]
     },
     "execution_count": 64,
     "metadata": {},
     "output_type": "execute_result"
    },
    {
     "data": {
      "image/png": "[encoded data removed]",
      "text/plain": [
       "<matplotlib.figure.Figure at 0x242d5f93be0>"
      ]
     },
     "metadata": {
      "needs_background": "light"
     },
     "output_type": "display_data"
    }
   ],
   "source": [
    "# Plot P1\n",
    "plt.scatter(indxAry[begIndx:endIndx], tarTest.iloc[:,1][begIndx:endIndx])\n",
    "plt.scatter(indxAry[begIndx:endIndx], predict[:,1][begIndx:endIndx])"
   ]
  },
  {
   "cell_type": "code",
   "execution_count": 65,
   "metadata": {},
   "outputs": [
    {
     "data": {
      "text/plain": [
       "<matplotlib.collections.PathCollection at 0x242d6f15dd8>"
      ]
     },
     "execution_count": 65,
     "metadata": {},
     "output_type": "execute_result"
    },
    {
     "data": {
      "image/png": "[encoded data removed]",
      "text/plain": [
       "<matplotlib.figure.Figure at 0x242d6b9f6a0>"
      ]
     },
     "metadata": {
      "needs_background": "light"
     },
     "output_type": "display_data"
    }
   ],
   "source": [
    "# Plot P2\n",
    "plt.scatter(indxAry[begIndx:endIndx], tarTest.iloc[:,2][begIndx:endIndx])\n",
    "plt.scatter(indxAry[begIndx:endIndx], predict[:,2][begIndx:endIndx])"
   ]
  },
  {
   "cell_type": "code",
   "execution_count": 66,
   "metadata": {},
   "outputs": [
    {
     "data": {
      "text/plain": [
       "<matplotlib.collections.PathCollection at 0x242ccbaa978>"
      ]
     },
     "execution_count": 66,
     "metadata": {},
     "output_type": "execute_result"
    },
    {
     "data": {
      "image/png": "[encoded data removed]",
      "text/plain": [
       "<matplotlib.figure.Figure at 0x242d6f23be0>"
      ]
     },
     "metadata": {
      "needs_background": "light"
     },
     "output_type": "display_data"
    }
   ],
   "source": [
    "# Plot Z1\n",
    "plt.scatter(indxAry[begIndx:endIndx], tarTest.iloc[:,3][begIndx:endIndx])\n",
    "plt.scatter(indxAry[begIndx:endIndx], predict[:,3][begIndx:endIndx])"
   ]
  },
  {
   "cell_type": "markdown",
   "metadata": {},
   "source": [
    "It seems this \"reversed\" neural network also work reasonably well. We will further fine-tune later on."
   ]
  },
  {
   "cell_type": "markdown",
   "metadata": {},
   "source": [
    "## **Deployment:**<a id = 'Deployment'></a>"
   ]
  },
  {
   "cell_type": "markdown",
   "metadata": {},
   "source": [
    "Now that we have trained model in Keras' .h5 format, we can translate this model into corresponding cpp codes using Keras2Cpp:\n",
    "\n",
    "![Keras2Cpp](./assets/images/Keras2Cpp.png)   \n",
    "\n",
    "Its github repository is here:\n",
    "[Keras2Cpp](https://github.com/pplonski/keras2cpp)\n",
    "\n",
    "Resulting file can be compiled together with keras_model.cc, keras_model.h in our AMI library."
   ]
  },
  {
   "cell_type": "markdown",
   "metadata": {},
   "source": [
    "## **Conclusion:**<a id = 'Conclusion'></a>"
   ]
  },
  {
   "cell_type": "markdown",
   "metadata": {},
   "source": [
    "In this post/notebook, we explore the flow to create a neural network based model for CTLE's parameter prediction. Data science techniques have been used. The resulting Keras' model is then converted into C++ code for implementation in our IBIS-AMI library. With this performance based CTLE model, our user can run channel simulation before committing actual silicon design."
   ]
  }
 ],
 "metadata": {
  "kernelspec": {
   "display_name": "Python 3",
   "language": "python",
   "name": "python3"
  },
  "language_info": {
   "codemirror_mode": {
    "name": "ipython",
    "version": 3
   },
   "file_extension": ".py",
   "mimetype": "text/x-python",
   "name": "python",
   "nbconvert_exporter": "python",
   "pygments_lexer": "ipython3",
   "version": "3.6.4"
  }
 },
 "nbformat": 4,
 "nbformat_minor": 2
}
